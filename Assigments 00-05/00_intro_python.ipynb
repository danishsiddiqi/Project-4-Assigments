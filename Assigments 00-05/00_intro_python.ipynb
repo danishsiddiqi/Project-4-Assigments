{
  "nbformat": 4,
  "nbformat_minor": 0,
  "metadata": {
    "colab": {
      "provenance": []
    },
    "kernelspec": {
      "name": "python3",
      "display_name": "Python 3"
    },
    "language_info": {
      "name": "python"
    }
  },
  "cells": [
    {
      "cell_type": "code",
      "execution_count": null,
      "metadata": {
        "colab": {
          "base_uri": "https://localhost:8080/"
        },
        "id": "RcvF9QQ_JYgy",
        "outputId": "26eebc91-bce8-491c-c58d-8e17bb8440d4"
      },
      "outputs": [
        {
          "output_type": "stream",
          "name": "stdout",
          "text": [
            "01_add_two_numbers\n",
            "Enter your first number: 43\n",
            "Enter your second number: 44\n",
            "the sum of 43 and 44 is 87\n"
          ]
        }
      ],
      "source": [
        "print(\"01_add_two_numbers\")\n",
        "\n",
        "def main():\n",
        "    first_number = input(\"Enter your first number: \")\n",
        "    first_number = int(first_number)\n",
        "    second_number = input(\"Enter your second number: \")\n",
        "    second_number = int(second_number)\n",
        "    total = first_number + second_number\n",
        "    print(f\"the sum of {first_number} and {second_number} is {total}\")\n",
        "if __name__ == \"__main__\":\n",
        "\n",
        " main()\n",
        "\n"
      ]
    },
    {
      "cell_type": "code",
      "source": [
        "print(\"02_agreement_bot\")\n",
        "\n",
        "def main(prompt):\n",
        "    return f\"My faourite animal is also {prompt}!\"\n",
        "\n",
        "user_input: str = str(input(\"What's your favourite animal?\"))\n",
        "response = main(user_input)\n",
        "print(response)\n",
        "\n"
      ],
      "metadata": {
        "colab": {
          "base_uri": "https://localhost:8080/"
        },
        "id": "4_iRquTrLL-8",
        "outputId": "0b29f09b-ec62-49a5-ae79-cd60b5f5b61c"
      },
      "execution_count": null,
      "outputs": [
        {
          "output_type": "stream",
          "name": "stdout",
          "text": [
            "02_agreement_bot\n",
            "What's your favourite animal?cat\n",
            "My faourite animal is also cat!\n"
          ]
        }
      ]
    },
    {
      "cell_type": "code",
      "source": [
        "print(\"03_fahrenheit_to_celsius\")\n",
        "\n",
        "def main():\n",
        "    fahrenheit =int(input(\"Enter temperature in Fahrenheit: \"))\n",
        "    celsius = (fahrenheit - 32) * 5.0/9.0\n",
        "    print (f\"Temperature: {fahrenheit} F = {celsius} C\")\n",
        "\n",
        "if __name__ == \"__main__\":\n",
        "  main()\n",
        "\n"
      ],
      "metadata": {
        "colab": {
          "base_uri": "https://localhost:8080/"
        },
        "id": "_fi9qDM_LjVX",
        "outputId": "6e02abd9-2b4d-4f1b-c70c-e5aa41492086"
      },
      "execution_count": null,
      "outputs": [
        {
          "output_type": "stream",
          "name": "stdout",
          "text": [
            "03_fahrenheit_to_celsius\n",
            "Enter temperature in Fahrenheit: 67\n",
            "Temperature: 67 F = 19.444444444444443 C\n"
          ]
        }
      ]
    },
    {
      "cell_type": "code",
      "source": [
        "print(\"04_how_old_are_they\")\n",
        "\n",
        "def add_ages():\n",
        "    Anton:int = 21\n",
        "    Beth:int = 6 + Anton\n",
        "    Chen:int = 20 + Beth\n",
        "    Drew:int = Chen + Anton\n",
        "    Ethan:int = Chen\n",
        "\n",
        "    print(f\"Anton is {Anton}\")\n",
        "    print(f\"Beth is {Beth}\")\n",
        "    print(f\"Chen is {Chen}\")\n",
        "    print(f\"Drew is {Drew}\")\n",
        "    print(f\"Ethan is {Ethan}\")\n",
        "\n",
        "if __name__ == \"__main__\":\n",
        "\n",
        "  add_ages()"
      ],
      "metadata": {
        "colab": {
          "base_uri": "https://localhost:8080/"
        },
        "id": "quvieiV1L5q6",
        "outputId": "a543e1ad-15d1-4c27-dae1-2a935741550b"
      },
      "execution_count": null,
      "outputs": [
        {
          "output_type": "stream",
          "name": "stdout",
          "text": [
            "04_how_old_are_they\n",
            "Anton is 21\n",
            "Beth is 27\n",
            "Chen is 47\n",
            "Drew is 68\n",
            "Ethan is 47\n"
          ]
        }
      ]
    },
    {
      "cell_type": "code",
      "source": [
        "print(\"05_triangle_perimeter\")\n",
        "\n",
        "def perimeter():\n",
        "    side1:float = float(input(\"Enter the length of the first side: \"))\n",
        "    side2:float =float(input(\"Enter the length of the second side: \"))\n",
        "    side3:float = float(input(\"Enter the length of the third side: \"))\n",
        "\n",
        "    perimeter:float = side1 + side2 + side3\n",
        "    print(f\"The perimeter of the triangle is: {perimeter}\")\n",
        "\n",
        "if __name__ == \"__main__\":\n",
        "\n",
        "  perimeter()\n",
        "\n"
      ],
      "metadata": {
        "colab": {
          "base_uri": "https://localhost:8080/"
        },
        "id": "wlVYjhV9MboL",
        "outputId": "6fb1b486-fdac-4af9-9c52-0d73d9463060"
      },
      "execution_count": null,
      "outputs": [
        {
          "output_type": "stream",
          "name": "stdout",
          "text": [
            "05_triangle_perimeter\n",
            "Enter the length of the first side: 10\n",
            "Enter the length of the second side: 20\n",
            "Enter the length of the third side: 10\n",
            "The perimeter of the triangle is: 40.0\n"
          ]
        }
      ]
    },
    {
      "cell_type": "code",
      "source": [
        "print(\"06_square_number.\")\n",
        "\n",
        "def square():\n",
        "    number:float = float(input(\"Enter a number: \"))\n",
        "    square:float = number*number\n",
        "\n",
        "    print(f\"The square of {number} is {square}\")\n",
        "\n",
        "if __name__ == \"__main__\":\n",
        " square()"
      ],
      "metadata": {
        "colab": {
          "base_uri": "https://localhost:8080/"
        },
        "id": "yeQBUU6_NbWx",
        "outputId": "380cfa18-d62b-4a6b-aefa-f668be608ee7"
      },
      "execution_count": null,
      "outputs": [
        {
          "output_type": "stream",
          "name": "stdout",
          "text": [
            "06_square_number.\n",
            "Enter a number: 32\n",
            "The square of 32.0 is 1024.0\n"
          ]
        }
      ]
    }
  ]
}