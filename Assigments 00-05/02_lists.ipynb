{
  "nbformat": 4,
  "nbformat_minor": 0,
  "metadata": {
    "colab": {
      "provenance": []
    },
    "kernelspec": {
      "name": "python3",
      "display_name": "Python 3"
    },
    "language_info": {
      "name": "python"
    }
  },
  "cells": [
    {
      "cell_type": "code",
      "execution_count": null,
      "metadata": {
        "colab": {
          "base_uri": "https://localhost:8080/"
        },
        "id": "Cd_e_y2eXpT9",
        "outputId": "abdc400c-c06a-41c3-de07-6a4c46bfc2f7"
      },
      "outputs": [
        {
          "output_type": "stream",
          "name": "stdout",
          "text": [
            "01_add_many_number.\n",
            "The sum of [2, 4, 6, 8, 10] is 30.\n"
          ]
        }
      ],
      "source": [
        "print(\"01_add_many_number.\")\n",
        "\n",
        "\n",
        "def add_numbers(numbers)-> int:\n",
        " num:int =0\n",
        " for i in numbers:\n",
        "  num += i\n",
        " return num\n",
        "\n",
        "def main():\n",
        "  numbers:list[int] = [2, 4, 6, 8, 10]\n",
        "  sum = add_numbers(numbers)\n",
        "  print(f\"The sum of {numbers} is {sum}.\")\n",
        "if __name__ == \"__main__\":\n",
        "  main()"
      ]
    },
    {
      "cell_type": "code",
      "source": [
        "print(\"02_double_list\")\n",
        "\n",
        "\n",
        "def main():\n",
        "    numbers:list[int] = [1, 2, 3, 4, 5]\n",
        "    for i in range(len(numbers)):\n",
        "      index = numbers[i]\n",
        "      numbers[i] = index * 2\n",
        "\n",
        "    print(numbers)\n",
        "\n",
        "main()\n",
        "\n"
      ],
      "metadata": {
        "colab": {
          "base_uri": "https://localhost:8080/"
        },
        "id": "vFBnZ-m_Yife",
        "outputId": "67543347-2b6e-40e6-c8ff-e82c35bd0732"
      },
      "execution_count": null,
      "outputs": [
        {
          "output_type": "stream",
          "name": "stdout",
          "text": [
            "02_double_list\n",
            "[2, 4, 6, 8, 10]\n"
          ]
        }
      ]
    },
    {
      "cell_type": "code",
      "source": [
        "print(\"04_flowing_with_data_structures.\")\n",
        "\n",
        "def add_copies(list, data):\n",
        "    for i in range (3):\n",
        "        list.append(data)\n",
        "\n",
        "def main():\n",
        "    message = input(\"Enter a message: \")\n",
        "    list = []\n",
        "    print(\"Before list: \", list)\n",
        "    add_copies(list, message)\n",
        "    print(\"After list: \", list)\n",
        "\n",
        "main()\n",
        "\n",
        "\n"
      ],
      "metadata": {
        "colab": {
          "base_uri": "https://localhost:8080/"
        },
        "id": "6wWQW1RIYxSS",
        "outputId": "03a0f79a-9e60-446f-f242-4b358846e513"
      },
      "execution_count": null,
      "outputs": [
        {
          "output_type": "stream",
          "name": "stdout",
          "text": [
            "04_flowing_with_data_structures.\n",
            "Enter a message: hello world\n",
            "Before list:  []\n",
            "After list:  ['hello world', 'hello world', 'hello world']\n"
          ]
        }
      ]
    },
    {
      "cell_type": "code",
      "source": [
        "print(\"05_get_first_element\")\n",
        "\n",
        "def get_first_element(list):\n",
        "    print(list[0])\n",
        "\n",
        "def get_list():\n",
        "    list = []\n",
        "    element:str = input(\"Enter an element to add to the list or press enter to finish: \")\n",
        "    while element != \"\":\n",
        "        list.append(element)\n",
        "        element = input(\"Enter an elememt to dd to the list or press enter to finish: \")\n",
        "    return list\n",
        "\n",
        "def main():\n",
        "    my_list = get_list()\n",
        "    print(\"The first element in the list is: \")\n",
        "    get_first_element(my_list)\n",
        "    print(\"The list is: \", my_list)\n",
        "\n",
        "if __name__ == \"__main__\":\n",
        " main()\n",
        "\n",
        "\n"
      ],
      "metadata": {
        "colab": {
          "base_uri": "https://localhost:8080/"
        },
        "id": "lRpuVfwUZB4C",
        "outputId": "a037769f-1ecd-4f86-92e4-27326713c6c5"
      },
      "execution_count": null,
      "outputs": [
        {
          "output_type": "stream",
          "name": "stdout",
          "text": [
            "05_get_first_element\n",
            "Enter an element to add to the list or press enter to finish: a\n",
            "Enter an elememt to dd to the list or press enter to finish: b\n",
            "Enter an elememt to dd to the list or press enter to finish: c\n",
            "Enter an elememt to dd to the list or press enter to finish: d\n",
            "Enter an elememt to dd to the list or press enter to finish: e\n",
            "Enter an elememt to dd to the list or press enter to finish: f\n",
            "Enter an elememt to dd to the list or press enter to finish: \n",
            "The first element in the list is: \n",
            "a\n",
            "The list is:  ['a', 'b', 'c', 'd', 'e', 'f']\n"
          ]
        }
      ]
    },
    {
      "cell_type": "code",
      "source": [
        "print(\"06_get_last_element.\")\n",
        "\n",
        "def get_last_element(list):\n",
        "    print(list[-1])\n",
        "\n",
        "\n",
        "def get_list():\n",
        "    list =[]\n",
        "    element:str = input(\"Enter an element to add to the list or ptess enter to stop: \")\n",
        "\n",
        "    while element != \"\":\n",
        "        list.append(element)\n",
        "        element:str = input(\"Enter an element to add to the list or ptess enter to stop: \")\n",
        "    return list\n",
        "\n",
        "def main():\n",
        "\n",
        "    my_list = get_list()\n",
        "    print(\"The last element in the list is: \")\n",
        "    get_last_element(my_list)\n",
        "    print(\"The list is:\" , my_list)\n",
        "\n",
        "main()\n",
        "\n",
        "\n",
        "\n",
        "\n"
      ],
      "metadata": {
        "colab": {
          "base_uri": "https://localhost:8080/"
        },
        "id": "3fHmnrsLZR48",
        "outputId": "e2acb670-b618-46f6-e69d-da447f1285bd"
      },
      "execution_count": null,
      "outputs": [
        {
          "output_type": "stream",
          "name": "stdout",
          "text": [
            "06_get_last_element.\n",
            "Enter an element to add to the list or ptess enter to stop: s\n",
            "Enter an element to add to the list or ptess enter to stop: a\n",
            "Enter an element to add to the list or ptess enter to stop: b\n",
            "Enter an element to add to the list or ptess enter to stop: a\n",
            "Enter an element to add to the list or ptess enter to stop: h\n",
            "Enter an element to add to the list or ptess enter to stop: a\n",
            "Enter an element to add to the list or ptess enter to stop: t\n",
            "Enter an element to add to the list or ptess enter to stop: \n",
            "The last element in the list is: \n",
            "t\n",
            "The list is: ['s', 'a', 'b', 'a', 'h', 'a', 't']\n"
          ]
        }
      ]
    },
    {
      "cell_type": "code",
      "source": [
        "print(\"07_get_list\")\n",
        "\n",
        "def main():\n",
        "    list =[]\n",
        "\n",
        "    value:str = input(\"Enter the value to add to the list: \")\n",
        "    while value != \"\":\n",
        "     list.append(value)\n",
        "     value = input(\"Enter the value to add to the list: \")\n",
        "    print(\"Here is the list:\" , list)\n",
        "\n",
        "main()\n",
        "\n"
      ],
      "metadata": {
        "colab": {
          "base_uri": "https://localhost:8080/"
        },
        "id": "yyVBfxyUZfzq",
        "outputId": "6c9b64bd-163e-450c-f91b-c5fc1af33490"
      },
      "execution_count": null,
      "outputs": [
        {
          "output_type": "stream",
          "name": "stdout",
          "text": [
            "07_get_list\n",
            "Enter the value to add to the list: h\n",
            "Enter the value to add to the list: e\n",
            "Enter the value to add to the list: l\n",
            "Enter the value to add to the list: l\n",
            "Enter the value to add to the list: o\n",
            "Enter the value to add to the list: \n",
            "Here is the list: ['h', 'e', 'l', 'l', 'o']\n"
          ]
        }
      ]
    },
    {
      "cell_type": "code",
      "source": [
        "print(\"08_shorten\")\n",
        "\n",
        "\n",
        "MAX_LENGTH:int = 3\n",
        "def shorten(list):\n",
        "  while len(list) >= MAX_LENGTH:\n",
        "    last_element = list.pop()\n",
        "    print(last_element)\n",
        "\n",
        "\n",
        "def get_list():\n",
        "  list =[]\n",
        "  element = input(\"Enter the element to add to the list: \")\n",
        "  while element != \"\":\n",
        "    list.append(element)\n",
        "    element = input(\"Enter the element to add to the list: \")\n",
        "  return list\n",
        "\n",
        "\n",
        "def main():\n",
        "  list = get_list()\n",
        "  shorten(list)\n",
        "\n",
        "main()\n",
        "\n",
        "\n",
        "\n"
      ],
      "metadata": {
        "colab": {
          "base_uri": "https://localhost:8080/"
        },
        "id": "lyDTiC_cZ1o0",
        "outputId": "a3db6d1a-1daa-46fb-b3a4-fbc661e57a3a"
      },
      "execution_count": null,
      "outputs": [
        {
          "output_type": "stream",
          "name": "stdout",
          "text": [
            "08_shorten\n",
            "Enter the element to add to the list: w\n",
            "Enter the element to add to the list: o\n",
            "Enter the element to add to the list: r\n",
            "Enter the element to add to the list: l\n",
            "Enter the element to add to the list: d\n",
            "Enter the element to add to the list: \n",
            "d\n",
            "l\n",
            "r\n"
          ]
        }
      ]
    }
  ]
}