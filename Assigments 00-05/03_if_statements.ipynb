{
  "nbformat": 4,
  "nbformat_minor": 0,
  "metadata": {
    "colab": {
      "provenance": []
    },
    "kernelspec": {
      "name": "python3",
      "display_name": "Python 3"
    },
    "language_info": {
      "name": "python"
    }
  },
  "cells": [
    {
      "cell_type": "code",
      "execution_count": null,
      "metadata": {
        "id": "gaYl_lWjaW5B",
        "outputId": "eaf4c60a-a1b1-4b45-f1e6-6e4455d35f77",
        "colab": {
          "base_uri": "https://localhost:8080/"
        }
      },
      "outputs": [
        {
          "output_type": "stream",
          "name": "stdout",
          "text": [
            "01_print_events\n",
            "0\n",
            "2\n",
            "4\n",
            "6\n",
            "8\n",
            "10\n",
            "12\n",
            "14\n",
            "16\n",
            "18\n",
            "20\n",
            "22\n",
            "24\n",
            "26\n",
            "28\n",
            "30\n",
            "32\n",
            "34\n",
            "36\n",
            "38\n"
          ]
        }
      ],
      "source": [
        "print(\"01_print_events\")\n",
        "\n",
        "def main():\n",
        "\n",
        "    for i in range(20):\n",
        "\n",
        "        print(i * 2)\n",
        "\n",
        "main()\n",
        "\n",
        "\n"
      ]
    },
    {
      "cell_type": "code",
      "source": [
        "print(\"02_international_voting_age\")\n",
        "\n",
        "\n",
        "PETURKSBOUIPO_AGE : int = 16\n",
        "STANLAU_AGE : int = 25\n",
        "MAYENGUA_AGE : int = 48\n",
        "\n",
        "def voting_age():\n",
        "     user_age:int = int(input(\"How old are you: \"))\n",
        "     if user_age >= PETURKSBOUIPO_AGE:\n",
        "        print(\"You can vote in Peturksbouipo where the voting age is\" +str(PETURKSBOUIPO_AGE) + \".\")\n",
        "\n",
        "     else:\n",
        "         print(\"You cannot vote in Peturksbouipo where the voting age is\" +str(PETURKSBOUIPO_AGE) + \".\")\n",
        "\n",
        "\n",
        "     if user_age >= STANLAU_AGE:\n",
        "        print(\"You can vote in Stanlau where the voting age is\" +str(STANLAU_AGE) + \".\")\n",
        "\n",
        "     else:\n",
        "        print(\"You cannot vote in Stanlau where the voting age is\" +str(STANLAU_AGE) + \".\")\n",
        "\n",
        "     if user_age >= MAYENGUA_AGE:\n",
        "        print(\"You can vote in Mayengua where the voting age is\" +str(MAYENGUA_AGE) + \".\")\n",
        "\n",
        "     else:\n",
        "        print(\"You cannot vote in Mayengua where the voting age is\" +str(MAYENGUA_AGE) + \".\")\n",
        "\n",
        "\n",
        "if __name__ == \"__main__\":\n",
        "      voting_age()\n",
        "\n"
      ],
      "metadata": {
        "id": "0voA83SravGQ",
        "colab": {
          "base_uri": "https://localhost:8080/"
        },
        "outputId": "345642b5-f77f-4f97-f0fa-0bf9d91059ba"
      },
      "execution_count": 1,
      "outputs": [
        {
          "output_type": "stream",
          "name": "stdout",
          "text": [
            "02_international_voting_age\n",
            "How old are you: 45\n",
            "You can vote in Peturksbouipo where the voting age is16.\n",
            "You can vote in Stanlau where the voting age is25.\n",
            "You cannot vote in Mayengua where the voting age is48.\n"
          ]
        }
      ]
    },
    {
      "cell_type": "code",
      "source": [
        "print(\"03_leap_year\")\n",
        "\n",
        "\n",
        "def is_leap_year(year):\n",
        "    if year % 4 == 0:\n",
        "        if year % 100 == 0:\n",
        "            if year % 400 == 0:\n",
        "                return True\n",
        "            else:\n",
        "                return False\n",
        "        else:\n",
        "            return True\n",
        "    else:\n",
        "        return False\n",
        "\n",
        "# User se input lena\n",
        "year = int(input(\"Enter a year: \"))\n",
        "\n",
        "# Function call karke result print karna\n",
        "if is_leap_year(year):\n",
        "    print(\"That's a leap year!\")\n",
        "else:\n",
        "    print(\"That's not a leap year.\")\n"
      ],
      "metadata": {
        "colab": {
          "base_uri": "https://localhost:8080/"
        },
        "id": "O43wk__ZUeLg",
        "outputId": "e1a9d607-b932-4d72-ac27-189e34e80d86"
      },
      "execution_count": 3,
      "outputs": [
        {
          "output_type": "stream",
          "name": "stdout",
          "text": [
            "03_leap_year\n",
            "Enter a year: 2025\n",
            "That's not a leap year.\n"
          ]
        }
      ]
    },
    {
      "cell_type": "code",
      "source": [
        "print(\"04_tall_enough_to_ride.\")\n",
        "\n",
        "\n",
        "MIN_HEIGHT: int = 48\n",
        "\n",
        "def main():\n",
        "    height =float(input(\"How tall are you? \"))\n",
        "    if height >= MIN_HEIGHT:\n",
        "        print(\"You are tall enough to ride.\")\n",
        "    else:\n",
        "        print(\"You are not tall enough to ride.\")\n",
        "\n",
        "if __name__ == \"__main__\":\n",
        "    main()"
      ],
      "metadata": {
        "colab": {
          "base_uri": "https://localhost:8080/"
        },
        "id": "BCP1fMA2UyJS",
        "outputId": "f58fb3ee-d491-4dfe-fc5b-2e39880b9541"
      },
      "execution_count": 4,
      "outputs": [
        {
          "output_type": "stream",
          "name": "stdout",
          "text": [
            "04_tall_enough_to_ride.\n",
            "How tall are you? 57\n",
            "You are tall enough to ride.\n"
          ]
        }
      ]
    },
    {
      "cell_type": "code",
      "source": [
        "print(\"05_random_numbers\")\n",
        "\n",
        "\n",
        "import random\n",
        "\n",
        "N_NUMBERS : int = 10\n",
        "MIN_VALUE : int = 1\n",
        "MAX_VALUE : int = 100\n",
        "\n",
        "for _ in range(N_NUMBERS):\n",
        "  value = random.randint(MIN_VALUE, MAX_VALUE)\n",
        "  print(value, end=' ')"
      ],
      "metadata": {
        "colab": {
          "base_uri": "https://localhost:8080/"
        },
        "id": "pGEuM5JOVFb1",
        "outputId": "c4a71e50-2bd2-42e1-cef8-efacf62c1f08"
      },
      "execution_count": 5,
      "outputs": [
        {
          "output_type": "stream",
          "name": "stdout",
          "text": [
            "05_random_numbers\n",
            "93 83 85 71 50 17 92 54 36 89 "
          ]
        }
      ]
    }
  ]
}