{
  "nbformat": 4,
  "nbformat_minor": 0,
  "metadata": {
    "colab": {
      "provenance": []
    },
    "kernelspec": {
      "name": "python3",
      "display_name": "Python 3"
    },
    "language_info": {
      "name": "python"
    }
  },
  "cells": [
    {
      "cell_type": "code",
      "execution_count": null,
      "metadata": {
        "colab": {
          "base_uri": "https://localhost:8080/"
        },
        "id": "VVVb49JSTjjt",
        "outputId": "e15e4a68-33c6-4ccd-af23-22ece50441da"
      },
      "outputs": [
        {
          "output_type": "stream",
          "name": "stdout",
          "text": [
            "01_dicesimulator.\n",
            "die1 in main() starts as:9\n",
            "Total of two dice: 9\n",
            "Total of two dice: 7\n",
            "Total of two dice: 7\n",
            "die1 in main() is:9\n"
          ]
        }
      ],
      "source": [
        "print(\"01_dicesimulator.\")\n",
        "\n",
        "import random\n",
        "\n",
        "def roll_dice():\n",
        "    die1: int = random.randint(1, 6)\n",
        "    die2: int = random.randint(1, 6)\n",
        "    total: int = die1 + die2\n",
        "    print(f\"Total of two dice: {total}\")\n",
        "\n",
        "def main():\n",
        "    die1:int = 9\n",
        "    print(\"die1 in main() starts as:\" + str(die1))\n",
        "    roll_dice()\n",
        "    roll_dice()\n",
        "    roll_dice()\n",
        "    print(\"die1 in main() is:\" + str(die1))\n",
        "\n",
        "if __name__ == \"__main__\":\n",
        " main()\n",
        "\n"
      ]
    },
    {
      "cell_type": "code",
      "source": [
        "print(\"e= mc2\")\n",
        "\n",
        "\n",
        "C: int = 299792458\n",
        "\n",
        "def energy():\n",
        "    mass_in_kg: float = float(input(\"Enter kilos of mass: \"))\n",
        "\n",
        "\n",
        "    energy_in_joules: float = mass_in_kg * (C ** 2)\n",
        "\n",
        "\n",
        "    print(\"e = m * C^2...\")\n",
        "    print(\"m = \" + str(mass_in_kg) + \" kg\")\n",
        "    print(\"C = \" + str(C) + \" m/s\")\n",
        "\n",
        "    print(str(energy_in_joules) + \" joules of energy!\")\n",
        "\n",
        "if __name__ == \"__main__\":\n",
        "  energy()\n"
      ],
      "metadata": {
        "colab": {
          "base_uri": "https://localhost:8080/"
        },
        "id": "GJAw8shdUICy",
        "outputId": "a1c24240-fc76-4e72-d681-bb93761ef1e5"
      },
      "execution_count": null,
      "outputs": [
        {
          "output_type": "stream",
          "name": "stdout",
          "text": [
            "e= mc2\n",
            "Enter kilos of mass: 45\n",
            "e = m * C^2...\n",
            "m = 45.0 kg\n",
            "C = 299792458 m/s\n",
            "4.044398304315679e+18 joules of energy!\n"
          ]
        }
      ]
    },
    {
      "cell_type": "code",
      "source": [
        "print(\"03_feet_to_inches\")\n",
        "\n",
        "inches_in_foot :int =12\n",
        "\n",
        "def inches():\n",
        "    \"\"\"Convert feet to inches.\"\"\"\n",
        "    feet:float = float(input(\"Enter number of feet\"))\n",
        "    inches:float = feet * inches_in_foot\n",
        "\n",
        "    print(f\"There are {inches} inches in {feet} feet!\")\n",
        "\n",
        "inches()\n",
        "\n"
      ],
      "metadata": {
        "colab": {
          "base_uri": "https://localhost:8080/"
        },
        "id": "tjIgJLwwUkr5",
        "outputId": "3f77fd33-735f-4e04-f058-fb33c1fe4058"
      },
      "execution_count": null,
      "outputs": [
        {
          "output_type": "stream",
          "name": "stdout",
          "text": [
            "03_feet_to_inches\n",
            "Enter number of feet5.7\n",
            "There are 68.4 inches in 5.7 feet!\n"
          ]
        }
      ]
    },
    {
      "cell_type": "code",
      "source": [
        "print(\"04_pythagorean_theorem\")\n",
        "\n",
        "\n",
        "import math\n",
        "\n",
        "def triangle():\n",
        "    AB:float = float(input(\"Enter length of the AB:\"))\n",
        "    AC:float = float(input(\"Enter length of the AC:\"))\n",
        "    BC:float = math.sqrt(AB**2 + AC**2)\n",
        "\n",
        "    print(f\"the lenght of BC(the hypothenous is:) {BC}\")\n",
        "\n",
        "triangle()\n",
        "\n",
        "\n",
        "\n",
        "\n"
      ],
      "metadata": {
        "colab": {
          "base_uri": "https://localhost:8080/"
        },
        "id": "Qx_Njq1CU3el",
        "outputId": "b45bcaf1-3cca-4571-91e3-d9254e5e707d"
      },
      "execution_count": null,
      "outputs": [
        {
          "output_type": "stream",
          "name": "stdout",
          "text": [
            "04_pythagorean_theorem\n",
            "Enter length of the AB:10\n",
            "Enter length of the AC:30\n",
            "the lenght of BC(the hypothenous is:) 31.622776601683793\n"
          ]
        }
      ]
    },
    {
      "cell_type": "code",
      "source": [
        "print(\"05_remainder_division\")\n",
        "\n",
        "def division():\n",
        "    num1:int = int(input(\"Enter the first number \" ))\n",
        "    num2:int = int(input(\"Enter the second number \" ))\n",
        "\n",
        "    quotient: int = num1 / num2\n",
        "    remainder: int = num1 % num2\n",
        "\n",
        "    print(f\"the  result of this division with quotient is : {quotient}\")\n",
        "    print(f\"the  result of this division with remainder is : {remainder}\")\n",
        "\n",
        "division()\n",
        "\n"
      ],
      "metadata": {
        "colab": {
          "base_uri": "https://localhost:8080/"
        },
        "id": "rRzWglbaVLBy",
        "outputId": "d28134c9-1bdc-49b1-c4c8-247ac0eb6711"
      },
      "execution_count": null,
      "outputs": [
        {
          "output_type": "stream",
          "name": "stdout",
          "text": [
            "05_remainder_division\n",
            "Enter the first number 8\n",
            "Enter the second number 65\n",
            "the  result of this division with quotient is : 0.12307692307692308\n",
            "the  result of this division with remainder is : 8\n"
          ]
        }
      ]
    },
    {
      "cell_type": "code",
      "source": [
        "print(\"06_rolldice.\")\n",
        "\n",
        "import random\n",
        "\n",
        "def dice():\n",
        "    die1:int = random.randint(1, 6)\n",
        "    die2:int = random.randint(1, 6)\n",
        "    total:int = die1 + die2\n",
        "\n",
        "    print(f\"Die 1: {die1}\")\n",
        "    print(f\"Die 2: {die2}\")\n",
        "    print(f\"Total: {total}\")\n",
        "\n",
        "dice()"
      ],
      "metadata": {
        "colab": {
          "base_uri": "https://localhost:8080/"
        },
        "id": "onmj1QNYVfwi",
        "outputId": "2a9cb067-5eae-4c8d-caae-c050cf630bdc"
      },
      "execution_count": null,
      "outputs": [
        {
          "output_type": "stream",
          "name": "stdout",
          "text": [
            "06_rolldice.\n",
            "Die 1: 4\n",
            "Die 2: 4\n",
            "Total: 8\n"
          ]
        }
      ]
    },
    {
      "cell_type": "code",
      "source": [
        "print(\"06_seconds_in_year\")\n",
        "\n",
        "days_per_year:int = 365\n",
        "hours_per_day:int = 24\n",
        "min_per_hour:int = 60\n",
        "sec_per_min:int = 60\n",
        "\n",
        "def sec_per_year():\n",
        "    print(\"There are \" + str(days_per_year * hours_per_day * min_per_hour * sec_per_min) + \" seconds in a year\")\n",
        "\n",
        "sec_per_year()"
      ],
      "metadata": {
        "colab": {
          "base_uri": "https://localhost:8080/"
        },
        "id": "l9hMh4ZDVxQy",
        "outputId": "a260cc41-108d-4f82-fdae-c53799449346"
      },
      "execution_count": null,
      "outputs": [
        {
          "output_type": "stream",
          "name": "stdout",
          "text": [
            "06_seconds_in_year\n",
            "There are 31536000 seconds in a year\n"
          ]
        }
      ]
    },
    {
      "cell_type": "code",
      "source": [
        "print(\"07_tiny_mad_lib\")\n",
        "\n",
        "\n",
        "def mad_lib():\n",
        "    adjective:str = input(\"Enter an adjective: \")\n",
        "    noun:str = input(\"Enter a noun: \")\n",
        "    verb:str = input(\"Enter a verb: \")\n",
        "\n",
        "    print(f\"Once upon a time, there was a {adjective} {noun} who loved to {verb}.\")\n",
        "\n",
        "mad_lib()\n"
      ],
      "metadata": {
        "colab": {
          "base_uri": "https://localhost:8080/"
        },
        "id": "pjTReH5IV7-p",
        "outputId": "0c2e9ffe-f533-478f-aced-8f35b2861c5b"
      },
      "execution_count": null,
      "outputs": [
        {
          "output_type": "stream",
          "name": "stdout",
          "text": [
            "07_tiny_mad_lib\n",
            "Enter an adjective: funny\n",
            "Enter a noun: monkey\n",
            "Enter a verb: dance\n",
            "Once upon a time, there was a funny monkey who loved to dance.\n"
          ]
        }
      ]
    }
  ]
}